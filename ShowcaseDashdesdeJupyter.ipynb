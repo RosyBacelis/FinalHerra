{
 "cells": [
  {
   "cell_type": "code",
   "execution_count": null,
   "id": "9efa38c5",
   "metadata": {},
   "outputs": [],
   "source": [
    "#SHOWCASE DASH DESDE JUPYTER NOTEBOOK"
   ]
  },
  {
   "cell_type": "code",
   "execution_count": 1,
   "id": "566d73dd",
   "metadata": {},
   "outputs": [
    {
     "name": "stdout",
     "output_type": "stream",
     "text": [
      "Requirement already satisfied: jupyter-dash in c:\\users\\bac_r\\anaconda3\\lib\\site-packages (0.4.2)\n",
      "Requirement already satisfied: dash in c:\\users\\bac_r\\anaconda3\\lib\\site-packages (from jupyter-dash) (2.9.3)\n",
      "Requirement already satisfied: requests in c:\\users\\bac_r\\appdata\\roaming\\python\\python310\\site-packages (from jupyter-dash) (2.29.0)\n",
      "Requirement already satisfied: flask in c:\\users\\bac_r\\anaconda3\\lib\\site-packages (from jupyter-dash) (2.2.2)\n",
      "Requirement already satisfied: retrying in c:\\users\\bac_r\\anaconda3\\lib\\site-packages (from jupyter-dash) (1.3.4)\n",
      "Requirement already satisfied: ipython in c:\\users\\bac_r\\appdata\\roaming\\python\\python310\\site-packages (from jupyter-dash) (8.13.2)\n",
      "Requirement already satisfied: ipykernel in c:\\users\\bac_r\\appdata\\roaming\\python\\python310\\site-packages (from jupyter-dash) (6.23.1)\n",
      "Requirement already satisfied: ansi2html in c:\\users\\bac_r\\anaconda3\\lib\\site-packages (from jupyter-dash) (1.8.0)\n",
      "Requirement already satisfied: nest-asyncio in c:\\users\\bac_r\\appdata\\roaming\\python\\python310\\site-packages (from jupyter-dash) (1.5.6)\n",
      "Requirement already satisfied: plotly>=5.0.0 in c:\\users\\bac_r\\anaconda3\\lib\\site-packages (from dash->jupyter-dash) (5.9.0)\n",
      "Requirement already satisfied: dash-html-components==2.0.0 in c:\\users\\bac_r\\anaconda3\\lib\\site-packages (from dash->jupyter-dash) (2.0.0)\n",
      "Requirement already satisfied: dash-core-components==2.0.0 in c:\\users\\bac_r\\anaconda3\\lib\\site-packages (from dash->jupyter-dash) (2.0.0)\n",
      "Requirement already satisfied: dash-table==5.0.0 in c:\\users\\bac_r\\anaconda3\\lib\\site-packages (from dash->jupyter-dash) (5.0.0)\n",
      "Requirement already satisfied: Werkzeug>=2.2.2 in c:\\users\\bac_r\\anaconda3\\lib\\site-packages (from flask->jupyter-dash) (2.2.2)\n",
      "Requirement already satisfied: Jinja2>=3.0 in c:\\users\\bac_r\\appdata\\roaming\\python\\python310\\site-packages (from flask->jupyter-dash) (3.1.2)\n",
      "Requirement already satisfied: itsdangerous>=2.0 in c:\\users\\bac_r\\anaconda3\\lib\\site-packages (from flask->jupyter-dash) (2.0.1)\n",
      "Requirement already satisfied: click>=8.0 in c:\\users\\bac_r\\appdata\\roaming\\python\\python310\\site-packages (from flask->jupyter-dash) (8.1.3)\n",
      "Requirement already satisfied: comm>=0.1.1 in c:\\users\\bac_r\\appdata\\roaming\\python\\python310\\site-packages (from ipykernel->jupyter-dash) (0.1.3)\n",
      "Requirement already satisfied: debugpy>=1.6.5 in c:\\users\\bac_r\\appdata\\roaming\\python\\python310\\site-packages (from ipykernel->jupyter-dash) (1.6.7)\n",
      "Requirement already satisfied: jupyter-client>=6.1.12 in c:\\users\\bac_r\\appdata\\roaming\\python\\python310\\site-packages (from ipykernel->jupyter-dash) (8.2.0)\n",
      "Requirement already satisfied: jupyter-core!=5.0.*,>=4.12 in c:\\users\\bac_r\\appdata\\roaming\\python\\python310\\site-packages (from ipykernel->jupyter-dash) (5.3.0)\n",
      "Requirement already satisfied: matplotlib-inline>=0.1 in c:\\users\\bac_r\\appdata\\roaming\\python\\python310\\site-packages (from ipykernel->jupyter-dash) (0.1.6)\n",
      "Requirement already satisfied: packaging in c:\\users\\bac_r\\appdata\\roaming\\python\\python310\\site-packages (from ipykernel->jupyter-dash) (23.1)\n",
      "Requirement already satisfied: psutil in c:\\users\\bac_r\\appdata\\roaming\\python\\python310\\site-packages (from ipykernel->jupyter-dash) (5.9.5)\n",
      "Requirement already satisfied: pyzmq>=20 in c:\\users\\bac_r\\appdata\\roaming\\python\\python310\\site-packages (from ipykernel->jupyter-dash) (25.0.2)\n",
      "Requirement already satisfied: tornado>=6.1 in c:\\users\\bac_r\\appdata\\roaming\\python\\python310\\site-packages (from ipykernel->jupyter-dash) (6.3.1)\n",
      "Requirement already satisfied: traitlets>=5.4.0 in c:\\users\\bac_r\\appdata\\roaming\\python\\python310\\site-packages (from ipykernel->jupyter-dash) (5.9.0)\n",
      "Requirement already satisfied: backcall in c:\\users\\bac_r\\appdata\\roaming\\python\\python310\\site-packages (from ipython->jupyter-dash) (0.2.0)\n",
      "Requirement already satisfied: decorator in c:\\users\\bac_r\\appdata\\roaming\\python\\python310\\site-packages (from ipython->jupyter-dash) (5.1.1)\n",
      "Requirement already satisfied: jedi>=0.16 in c:\\users\\bac_r\\appdata\\roaming\\python\\python310\\site-packages (from ipython->jupyter-dash) (0.18.2)\n",
      "Requirement already satisfied: pickleshare in c:\\users\\bac_r\\appdata\\roaming\\python\\python310\\site-packages (from ipython->jupyter-dash) (0.7.5)\n",
      "Requirement already satisfied: prompt-toolkit!=3.0.37,<3.1.0,>=3.0.30 in c:\\users\\bac_r\\appdata\\roaming\\python\\python310\\site-packages (from ipython->jupyter-dash) (3.0.38)\n",
      "Requirement already satisfied: pygments>=2.4.0 in c:\\users\\bac_r\\appdata\\roaming\\python\\python310\\site-packages (from ipython->jupyter-dash) (2.15.1)\n",
      "Requirement already satisfied: stack-data in c:\\users\\bac_r\\appdata\\roaming\\python\\python310\\site-packages (from ipython->jupyter-dash) (0.6.2)\n",
      "Requirement already satisfied: colorama in c:\\users\\bac_r\\appdata\\roaming\\python\\python310\\site-packages (from ipython->jupyter-dash) (0.4.6)\n",
      "Requirement already satisfied: charset-normalizer<4,>=2 in c:\\users\\bac_r\\appdata\\roaming\\python\\python310\\site-packages (from requests->jupyter-dash) (3.1.0)\n",
      "Requirement already satisfied: idna<4,>=2.5 in c:\\users\\bac_r\\appdata\\roaming\\python\\python310\\site-packages (from requests->jupyter-dash) (3.4)\n",
      "Requirement already satisfied: urllib3<1.27,>=1.21.1 in c:\\users\\bac_r\\appdata\\roaming\\python\\python310\\site-packages (from requests->jupyter-dash) (1.26.15)\n",
      "Requirement already satisfied: certifi>=2017.4.17 in c:\\users\\bac_r\\appdata\\roaming\\python\\python310\\site-packages (from requests->jupyter-dash) (2022.12.7)\n",
      "Requirement already satisfied: six>=1.7.0 in c:\\users\\bac_r\\appdata\\roaming\\python\\python310\\site-packages (from retrying->jupyter-dash) (1.16.0)\n",
      "Requirement already satisfied: parso<0.9.0,>=0.8.0 in c:\\users\\bac_r\\appdata\\roaming\\python\\python310\\site-packages (from jedi>=0.16->ipython->jupyter-dash) (0.8.3)\n",
      "Requirement already satisfied: MarkupSafe>=2.0 in c:\\users\\bac_r\\appdata\\roaming\\python\\python310\\site-packages (from Jinja2>=3.0->flask->jupyter-dash) (2.1.2)\n",
      "Requirement already satisfied: python-dateutil>=2.8.2 in c:\\users\\bac_r\\appdata\\roaming\\python\\python310\\site-packages (from jupyter-client>=6.1.12->ipykernel->jupyter-dash) (2.8.2)\n",
      "Requirement already satisfied: platformdirs>=2.5 in c:\\users\\bac_r\\appdata\\roaming\\python\\python310\\site-packages (from jupyter-core!=5.0.*,>=4.12->ipykernel->jupyter-dash) (3.5.1)\n",
      "Requirement already satisfied: pywin32>=300 in c:\\users\\bac_r\\appdata\\roaming\\python\\python310\\site-packages (from jupyter-core!=5.0.*,>=4.12->ipykernel->jupyter-dash) (306)\n",
      "Requirement already satisfied: tenacity>=6.2.0 in c:\\users\\bac_r\\appdata\\roaming\\python\\python310\\site-packages (from plotly>=5.0.0->dash->jupyter-dash) (8.2.2)\n",
      "Requirement already satisfied: wcwidth in c:\\users\\bac_r\\appdata\\roaming\\python\\python310\\site-packages (from prompt-toolkit!=3.0.37,<3.1.0,>=3.0.30->ipython->jupyter-dash) (0.2.6)\n",
      "Requirement already satisfied: executing>=1.2.0 in c:\\users\\bac_r\\appdata\\roaming\\python\\python310\\site-packages (from stack-data->ipython->jupyter-dash) (1.2.0)\n",
      "Requirement already satisfied: asttokens>=2.1.0 in c:\\users\\bac_r\\appdata\\roaming\\python\\python310\\site-packages (from stack-data->ipython->jupyter-dash) (2.2.1)\n",
      "Requirement already satisfied: pure-eval in c:\\users\\bac_r\\appdata\\roaming\\python\\python310\\site-packages (from stack-data->ipython->jupyter-dash) (0.2.2)\n"
     ]
    }
   ],
   "source": [
    "#Esta biblioteca facilita el desarrollo interactivo de aplicaciones de Plotly Dash desde entornos de Jupyter \n",
    "!pip install jupyter-dash "
   ]
  },
  {
   "cell_type": "code",
   "execution_count": 2,
   "id": "215f3005",
   "metadata": {},
   "outputs": [
    {
     "name": "stdout",
     "output_type": "stream",
     "text": [
      "Requirement already satisfied: dash-bootstrap-components in c:\\users\\bac_r\\anaconda3\\lib\\site-packages (1.4.1)\n",
      "Requirement already satisfied: dash>=2.0.0 in c:\\users\\bac_r\\anaconda3\\lib\\site-packages (from dash-bootstrap-components) (2.9.3)\n",
      "Requirement already satisfied: Flask>=1.0.4 in c:\\users\\bac_r\\anaconda3\\lib\\site-packages (from dash>=2.0.0->dash-bootstrap-components) (2.2.2)\n",
      "Requirement already satisfied: plotly>=5.0.0 in c:\\users\\bac_r\\anaconda3\\lib\\site-packages (from dash>=2.0.0->dash-bootstrap-components) (5.9.0)\n",
      "Requirement already satisfied: dash-html-components==2.0.0 in c:\\users\\bac_r\\anaconda3\\lib\\site-packages (from dash>=2.0.0->dash-bootstrap-components) (2.0.0)\n",
      "Requirement already satisfied: dash-core-components==2.0.0 in c:\\users\\bac_r\\anaconda3\\lib\\site-packages (from dash>=2.0.0->dash-bootstrap-components) (2.0.0)\n",
      "Requirement already satisfied: dash-table==5.0.0 in c:\\users\\bac_r\\anaconda3\\lib\\site-packages (from dash>=2.0.0->dash-bootstrap-components) (5.0.0)\n",
      "Requirement already satisfied: Werkzeug>=2.2.2 in c:\\users\\bac_r\\anaconda3\\lib\\site-packages (from Flask>=1.0.4->dash>=2.0.0->dash-bootstrap-components) (2.2.2)\n",
      "Requirement already satisfied: Jinja2>=3.0 in c:\\users\\bac_r\\appdata\\roaming\\python\\python310\\site-packages (from Flask>=1.0.4->dash>=2.0.0->dash-bootstrap-components) (3.1.2)\n",
      "Requirement already satisfied: itsdangerous>=2.0 in c:\\users\\bac_r\\anaconda3\\lib\\site-packages (from Flask>=1.0.4->dash>=2.0.0->dash-bootstrap-components) (2.0.1)\n",
      "Requirement already satisfied: click>=8.0 in c:\\users\\bac_r\\appdata\\roaming\\python\\python310\\site-packages (from Flask>=1.0.4->dash>=2.0.0->dash-bootstrap-components) (8.1.3)\n",
      "Requirement already satisfied: tenacity>=6.2.0 in c:\\users\\bac_r\\appdata\\roaming\\python\\python310\\site-packages (from plotly>=5.0.0->dash>=2.0.0->dash-bootstrap-components) (8.2.2)\n",
      "Requirement already satisfied: colorama in c:\\users\\bac_r\\appdata\\roaming\\python\\python310\\site-packages (from click>=8.0->Flask>=1.0.4->dash>=2.0.0->dash-bootstrap-components) (0.4.6)\n",
      "Requirement already satisfied: MarkupSafe>=2.0 in c:\\users\\bac_r\\appdata\\roaming\\python\\python310\\site-packages (from Jinja2>=3.0->Flask>=1.0.4->dash>=2.0.0->dash-bootstrap-components) (2.1.2)\n"
     ]
    }
   ],
   "source": [
    "#es una biblioteca de componentes de Bootstrap para Plotly Dash,que facilita la creación de \n",
    "#aplicaciones con estilos consistentes con diseños complejos y receptivos.\n",
    "!pip install dash-bootstrap-components"
   ]
  },
  {
   "cell_type": "code",
   "execution_count": null,
   "id": "0906eb7f",
   "metadata": {},
   "outputs": [
    {
     "name": "stderr",
     "output_type": "stream",
     "text": [
      "C:\\Users\\bac_r\\AppData\\Local\\Temp\\ipykernel_18444\\2258057665.py:5: UserWarning: \n",
      "The dash_core_components package is deprecated. Please replace\n",
      "`import dash_core_components as dcc` with `from dash import dcc`\n",
      "  import dash_core_components as dcc\n",
      "C:\\Users\\bac_r\\AppData\\Local\\Temp\\ipykernel_18444\\2258057665.py:6: UserWarning: \n",
      "The dash_html_components package is deprecated. Please replace\n",
      "`import dash_html_components as html` with `from dash import html`\n",
      "  import dash_html_components as html\n",
      "C:\\Users\\bac_r\\AppData\\Local\\Temp\\ipykernel_18444\\2258057665.py:8: UserWarning: \n",
      "The dash_table package is deprecated. Please replace\n",
      "`import dash_table` with `from dash import dash_table`\n",
      "\n",
      "Also, if you're using any of the table format helpers (e.g. Group), replace \n",
      "`from dash_table.Format import Group` with \n",
      "`from dash.dash_table.Format import Group`\n",
      "  import dash_table\n"
     ]
    },
    {
     "name": "stdout",
     "output_type": "stream",
     "text": [
      "Dash is running on http://127.0.0.1:8050/\n",
      "\n"
     ]
    }
   ],
   "source": [
    "import plotly.graph_objects as go #contiene los componentes básicos de plotly Figure: trazas ( Scatter, Bar, …) yLayout\n",
    "import plotly.express as px #contiene funciones que pueden crear figuras completas a la vez y se conoce como Plotly Express o PX\n",
    "from jupyter_dash import JupyterDash\n",
    "#Dash proporciona clases HTML que nos permiten generar contenido HTML con Python\n",
    "import dash_core_components as dcc \n",
    "import dash_html_components as html\n",
    "#es un componente de tabla interactivo diseñado para ver, editar y explorar grandes conjuntos de datos.\n",
    "import dash_table\n",
    "import numpy as np #es una librería de Python especializada en el cálculo numérico y el análisis de datos, especialmente para un gran volumen de datos.\n",
    "\n",
    "# Cargar datos aleatorios de la base de datos integrada de Plotly\n",
    "df = px.data.gapminder()\n",
    "\n",
    "# preparar una figura de gráfico de rayos de sol\n",
    "fig = px.sunburst(df,\n",
    "                  path=['continent', 'country', 'year'],\n",
    "                  values='pop',\n",
    "                  color='lifeExp',\n",
    "                  hover_data=['iso_alpha'],\n",
    "                  color_continuous_scale='twilight',\n",
    "                  color_continuous_midpoint=np.average(df['lifeExp'],\n",
    "                                                       weights=df['pop'])\n",
    "                  )\n",
    "\n",
    "# Construir una tabla de datos de guión\n",
    "table = dash_table.DataTable(df.to_dict('records'), [{\"name\": i, \"id\": i} for i in df.columns])\n",
    "\n",
    "# construir una aplicación de guión jupyter\n",
    "app = JupyterDash(__name__)\n",
    "\n",
    "# agregue componentes html y figura a la aplicación\n",
    "app.layout = html.Div(\n",
    "    [\n",
    "      html.H1('SHOWCASE DASHBOARD', style={'color': 'grey'}),\n",
    "      dcc.Graph(figure=fig),\n",
    "      html.Br(),\n",
    "      table\n",
    "    ]\n",
    "  )\n",
    "\n",
    "\n",
    "# ejecutar la aplicación en línea\n",
    "app.run_server(mode='inline')#\"inline\" generará el tablero en colab, \"external\" lo generará en su navegador a través de localhost"
   ]
  },
  {
   "cell_type": "code",
   "execution_count": null,
   "id": "0efb24a0",
   "metadata": {},
   "outputs": [],
   "source": []
  }
 ],
 "metadata": {
  "kernelspec": {
   "display_name": "Python 3 (ipykernel)",
   "language": "python",
   "name": "python3"
  },
  "language_info": {
   "codemirror_mode": {
    "name": "ipython",
    "version": 3
   },
   "file_extension": ".py",
   "mimetype": "text/x-python",
   "name": "python",
   "nbconvert_exporter": "python",
   "pygments_lexer": "ipython3",
   "version": "3.10.9"
  }
 },
 "nbformat": 4,
 "nbformat_minor": 5
}
